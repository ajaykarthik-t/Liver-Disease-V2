{
 "cells": [
  {
   "cell_type": "code",
   "execution_count": 33,
   "id": "a59aa789",
   "metadata": {},
   "outputs": [
    {
     "data": {
      "text/plain": [
       "Index(['Age', 'sex', 'Total_Bilirubin', 'Direct_Bilirubin',\n",
       "       'Alkaline_Phosphotase', 'Alamine_Aminotransferase',\n",
       "       'Aspartate_Aminotransferase', 'Total_Protiens', 'Albumin',\n",
       "       'Albumin_and_Globulin_Ratio', 'Dataset'],\n",
       "      dtype='object')"
      ]
     },
     "execution_count": 33,
     "metadata": {},
     "output_type": "execute_result"
    }
   ],
   "source": [
    "import pandas as pd\n",
    "from sklearn import tree\n",
    "from sklearn.model_selection import train_test_split\n",
    "import math\n",
    "\n",
    "info = pd.read_csv('./dataset.csv')\n",
    "info.head()\n",
    "info.isna().sum() # Albumin_and_Globulin_Ratio    4 filling with mean()\n",
    "\n",
    "info['Albumin_and_Globulin_Ratio'].isna().sum()\n",
    "info['Albumin_and_Globulin_Ratio'].fillna(info['Albumin_and_Globulin_Ratio'].median(),inplace=True)\n",
    "# info.isna().sum()\n",
    "\n",
    "# info.info() # info\n",
    "\n",
    "dt = tree.DecisionTreeClassifier()\n",
    "# X = \n",
    "info.columns"
   ]
  },
  {
   "cell_type": "code",
   "execution_count": 38,
   "id": "cffc87ea",
   "metadata": {},
   "outputs": [
    {
     "data": {
      "text/plain": [
       "Index(['Age', 'sex', 'Total_Bilirubin', 'Direct_Bilirubin',\n",
       "       'Alkaline_Phosphotase', 'Alamine_Aminotransferase',\n",
       "       'Aspartate_Aminotransferase', 'Total_Protiens', 'Albumin',\n",
       "       'Albumin_and_Globulin_Ratio', 'Target'],\n",
       "      dtype='object')"
      ]
     },
     "execution_count": 38,
     "metadata": {},
     "output_type": "execute_result"
    }
   ],
   "source": [
    "#  rename \n",
    "info.rename(columns ={'Dataset':'Target'},inplace=True)\n",
    "info.columns"
   ]
  },
  {
   "cell_type": "code",
   "execution_count": 54,
   "id": "f6f9d5c3",
   "metadata": {},
   "outputs": [
    {
     "data": {
      "text/plain": [
       "array([2], dtype=int64)"
      ]
     },
     "execution_count": 54,
     "metadata": {},
     "output_type": "execute_result"
    }
   ],
   "source": [
    "X = info.drop('Target',axis=1)\n",
    "y = info['Target']\n",
    "\n",
    "X_train, X_test, y_train, y_test = train_test_split(X, y, test_size=0.3, random_state=42)\n",
    "dt.fit(X_train,y_train)\n",
    "dt.predict([[1,1,1,1,1,1,1,1,1,1]])\n",
    "# testing\n",
    "results = dt.predict(X_test)\n",
    "for final in results:\n",
    "    if final == 1:\n",
    "        print('you have a Liver Disease')\n",
    "    else:\n",
    "        print('you do not have a Liver Disease'')"
   ]
  },
  {
   "cell_type": "code",
   "execution_count": 47,
   "id": "70542ce0",
   "metadata": {},
   "outputs": [
    {
     "data": {
      "text/plain": [
       "11"
      ]
     },
     "execution_count": 47,
     "metadata": {},
     "output_type": "execute_result"
    }
   ],
   "source": [
    "len(info.columns)"
   ]
  }
 ],
 "metadata": {
  "kernelspec": {
   "display_name": "Python 3",
   "language": "python",
   "name": "python3"
  },
  "language_info": {
   "codemirror_mode": {
    "name": "ipython",
    "version": 3
   },
   "file_extension": ".py",
   "mimetype": "text/x-python",
   "name": "python",
   "nbconvert_exporter": "python",
   "pygments_lexer": "ipython3",
   "version": "3.9.6"
  }
 },
 "nbformat": 4,
 "nbformat_minor": 5
}
