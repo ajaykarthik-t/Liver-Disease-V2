{
 "cells": [
  {
   "cell_type": "code",
   "execution_count": 33,
   "id": "a59aa789",
   "metadata": {},
   "outputs": [
    {
     "data": {
      "text/plain": [
       "Index(['Age', 'sex', 'Total_Bilirubin', 'Direct_Bilirubin',\n",
       "       'Alkaline_Phosphotase', 'Alamine_Aminotransferase',\n",
       "       'Aspartate_Aminotransferase', 'Total_Protiens', 'Albumin',\n",
       "       'Albumin_and_Globulin_Ratio', 'Dataset'],\n",
       "      dtype='object')"
      ]
     },
     "execution_count": 33,
     "metadata": {},
     "output_type": "execute_result"
    }
   ],
   "source": [
    "import pandas as pd\n",
    "from sklearn import tree\n",
    "from sklearn.model_selection import train_test_split\n",
    "import math\n",
    "\n",
    "info = pd.read_csv('./dataset.csv')\n",
    "info.head()\n",
    "info.isna().sum() # Albumin_and_Globulin_Ratio    4 filling with mean()\n",
    "\n",
    "info['Albumin_and_Globulin_Ratio'].isna().sum()\n",
    "info['Albumin_and_Globulin_Ratio'].fillna(info['Albumin_and_Globulin_Ratio'].median(),inplace=True)\n",
    "# info.isna().sum()\n",
    "\n",
    "# info.info() # info\n",
    "\n",
    "dt = tree.DecisionTreeClassifier()\n",
    "# X = \n",
    "info.columns"
   ]
  },
  {
   "cell_type": "code",
   "execution_count": 38,
   "id": "40febfe2",
   "metadata": {},
   "outputs": [
    {
     "data": {
      "text/plain": [
       "Index(['Age', 'sex', 'Total_Bilirubin', 'Direct_Bilirubin',\n",
       "       'Alkaline_Phosphotase', 'Alamine_Aminotransferase',\n",
       "       'Aspartate_Aminotransferase', 'Total_Protiens', 'Albumin',\n",
       "       'Albumin_and_Globulin_Ratio', 'Target'],\n",
       "      dtype='object')"
      ]
     },
     "execution_count": 38,
     "metadata": {},
     "output_type": "execute_result"
    }
   ],
   "source": [
    "#  rename \n",
    "info.rename(columns ={'Dataset':'Target'},inplace=True)\n",
    "info.columns"
   ]
  },
  {
   "cell_type": "code",
   "execution_count": null,
   "id": "4a5ab95d",
   "metadata": {},
   "outputs": [],
   "source": [
    "1# X = info.drop('Target',axis=1)\n",
    "y = info['Target']\n",
    "\n",
    "X_train, X_test, y_train, y_test = train_test_split(X, y, test_size=0.3, random_state=42)\n",
    "dt.fit(X_train,y_train)\n",
    "\n",
    "dt.predict([[1,1,1,1,1,1,1,1,1,1]])\n",
    "# testing\n",
    "'''\n",
    "Age', 'sex', 'Total_Bilirubin', 'Direct_Bilirubin',\n",
    "       'Alkaline_Phosphotase', 'Alamine_Aminotransferase',\n",
    "       'Aspartate_Aminotransferase', 'Total_Protiens', 'Albumin',\n",
    "       'Albumin_and_Globulin_Ratio'\n",
    "'''\n",
    "Sex = int(input(\"Entre your Sex (male = 1 and female = 2) >  \"))  # 1\n",
    "age = int(input(\"Entre your age >  \"))  # 2 \n",
    "Total_Bilirubin = int(input(\"Entre your Total_Bilirubin >  \")) # 3\n",
    "Direct_Bilirubin = int(input(\"Entre your Direct_Bilirubin >  \")) # 4\n",
    "Alkaline_Phosphotase = int(input(\"Entre your Alkaline_Phosphotase >  \")) # 5\n",
    "Alamine_Aminotransferase = int(input(\"Entre your Alamine_Aminotransferase >  \")) # 6\n",
    "Aspartate_Aminotransferase = int(input(\"Entre your Aspartate_Aminotransferase >  \")) # 7\n",
    "Total_Protiens = int(input(\"Entre your Total_Protiens >  \")) # 8\n",
    "Albumin = int(input(\"Entre your Albumin >  \")) # 9\n",
    "Albumin_and_Globulin_Rati = int(input(\"Entre your Albumin_and_Globulin_Ratio >  \")) # 10 \n",
    "\n",
    "results = dt.predict([[Sex,age,Total_Bilirubin,Direct_Bilirubin,Alkaline_Phosphotase,Alamine_Aminotransferase,Aspartate_Aminotransferase\n",
    "                      ,Total_Protiens,Albumin,Albumin_and_Globulin_Rati]])\n",
    "\n",
    "for final in results:\n",
    "    if final == 1:\n",
    "        print('\\n you have a Liver Disease')\n",
    "    else:\n",
    "        print('\\n you do not have a Liver Disease')\n",
    "        \n",
    "info.dtypes"
   ]
  },
  {
   "cell_type": "markdown",
   "id": "d443d9b4",
   "metadata": {},
   "source": [
    "# len(info.columns)"
   ]
  },
  {
   "cell_type": "code",
   "execution_count": 89,
   "id": "ea4a9c18",
   "metadata": {},
   "outputs": [
    {
     "name": "stdout",
     "output_type": "stream",
     "text": [
      "<class 'pandas.core.frame.DataFrame'>\n",
      "RangeIndex: 583 entries, 0 to 582\n",
      "Data columns (total 11 columns):\n",
      " #   Column                      Non-Null Count  Dtype\n",
      "---  ------                      --------------  -----\n",
      " 0   Age                         583 non-null    int32\n",
      " 1   sex                         583 non-null    int32\n",
      " 2   Total_Bilirubin             583 non-null    int32\n",
      " 3   Direct_Bilirubin            583 non-null    int32\n",
      " 4   Alkaline_Phosphotase        583 non-null    int32\n",
      " 5   Alamine_Aminotransferase    583 non-null    int32\n",
      " 6   Aspartate_Aminotransferase  583 non-null    int32\n",
      " 7   Total_Protiens              583 non-null    int32\n",
      " 8   Albumin                     583 non-null    int32\n",
      " 9   Albumin_and_Globulin_Ratio  583 non-null    int32\n",
      " 10  Target                      583 non-null    int32\n",
      "dtypes: int32(11)\n",
      "memory usage: 25.2 KB\n"
     ]
    }
   ],
   "source": [
    "\n",
    "info.astype(int).info()"
   ]
  }
 ],
 "metadata": {
  "kernelspec": {
   "display_name": "Python 3",
   "language": "python",
   "name": "python3"
  },
  "language_info": {
   "codemirror_mode": {
    "name": "ipython",
    "version": 3
   },
   "file_extension": ".py",
   "mimetype": "text/x-python",
   "name": "python",
   "nbconvert_exporter": "python",
   "pygments_lexer": "ipython3",
   "version": "3.9.6"
  }
 },
 "nbformat": 4,
 "nbformat_minor": 5
}
